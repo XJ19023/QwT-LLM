{
 "cells": [
  {
   "cell_type": "code",
   "execution_count": null,
   "id": "aa1a47ae",
   "metadata": {},
   "outputs": [],
   "source": [
    "import os\n",
    "import random\n",
    "import sys\n",
    "import numpy as np\n",
    "from safetensors.torch import load_file\n",
    "import torch\n",
    "import math\n",
    "from safetensors.torch import save_file\n",
    "\n",
    "import time\n",
    "start_time = time.time()\n",
    "# ----------------------------------------------------------\n",
    "\n",
    "safetensors_path_act = 'saved_tensor/opt_2_7b/activation.safetensors'\n",
    "state_dict_qwt = load_file(safetensors_path_act)\n",
    "\n",
    "safetensors_path_act = 'saved_tensor/opt_2_7b_base/activation.safetensors'\n",
    "state_dict_base = load_file(safetensors_path_act)"
   ]
  },
  {
   "cell_type": "code",
   "execution_count": null,
   "id": "550bbf77",
   "metadata": {},
   "outputs": [],
   "source": [
    "import torch\n",
    "import torch.nn as nn\n",
    "\n",
    "# 实例化MSELoss对象\n",
    "loss = nn.MSELoss()"
   ]
  },
  {
   "cell_type": "code",
   "execution_count": null,
   "id": "4f4b5da7",
   "metadata": {},
   "outputs": [],
   "source": [
    "for idx in range(31): \n",
    "    print(idx, loss(state_dict_base[f'base_layers.{idx}.input'].float(), state_dict_qwt[f'base_layers.{idx}.input'].float()))\n",
    "    # print('='*10)\n",
    "    # print(state_dict_base[f'base_layers.{idx}.input'].view(-1)[:5])\n",
    "    # print(state_dict_qwt[f'base_layers.{idx}.input'].view(-1)[:5])\n"
   ]
  },
  {
   "cell_type": "code",
   "execution_count": 42,
   "id": "9cf4b7b1",
   "metadata": {},
   "outputs": [],
   "source": [
    "def tensor_gpu_memory(tensor, name=None):\n",
    "    if tensor.is_cuda:\n",
    "        size_in_bytes = tensor.element_size() * tensor.numel()\n",
    "        size_in_MB = size_in_bytes / 1024**2\n",
    "        print(f\"{name if name else ''} size: {size_in_MB:.2f} MB\")\n",
    "    else:\n",
    "        print(f\"{name if name else ''} is not on GPU.\")"
   ]
  },
  {
   "cell_type": "code",
   "execution_count": 50,
   "id": "dee23bc7",
   "metadata": {},
   "outputs": [],
   "source": [
    "import torch\n",
    "tensor = torch.empty((512, 2048, 4096), dtype=torch.float32).to('cuda')\n",
    "# print((4 * 512 * 2048 * 4096 * 32) / 1024 / 1024 / 1024 / 1024)"
   ]
  },
  {
   "cell_type": "code",
   "execution_count": null,
   "id": "8845d57d",
   "metadata": {},
   "outputs": [
    {
     "name": "stdout",
     "output_type": "stream",
     "text": [
      " size: 16384.00 MB\n"
     ]
    },
    {
     "ename": "",
     "evalue": "",
     "output_type": "error",
     "traceback": [
      "\u001b[1;31m在当前单元格或上一个单元格中执行代码时 Kernel 崩溃。\n",
      "\u001b[1;31m请查看单元格中的代码，以确定故障的可能原因。\n",
      "\u001b[1;31m单击<a href='https://aka.ms/vscodeJupyterKernelCrash'>此处</a>了解详细信息。\n",
      "\u001b[1;31m有关更多详细信息，请查看 Jupyter <a href='command:jupyter.viewOutput'>log</a>。"
     ]
    }
   ],
   "source": [
    "tensor_gpu_memory(tensor)"
   ]
  }
 ],
 "metadata": {
  "kernelspec": {
   "display_name": "qwt",
   "language": "python",
   "name": "python3"
  },
  "language_info": {
   "codemirror_mode": {
    "name": "ipython",
    "version": 3
   },
   "file_extension": ".py",
   "mimetype": "text/x-python",
   "name": "python",
   "nbconvert_exporter": "python",
   "pygments_lexer": "ipython3",
   "version": "3.10.16"
  }
 },
 "nbformat": 4,
 "nbformat_minor": 5
}

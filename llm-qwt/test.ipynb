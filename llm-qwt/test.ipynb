{
 "cells": [
  {
   "cell_type": "code",
   "execution_count": 17,
   "id": "aa1a47ae",
   "metadata": {},
   "outputs": [],
   "source": [
    "import os\n",
    "import random\n",
    "import sys\n",
    "import numpy as np\n",
    "from safetensors.torch import load_file\n",
    "import torch\n",
    "import math\n",
    "from safetensors.torch import save_file\n",
    "\n",
    "import time\n",
    "start_time = time.time()\n",
    "# ----------------------------------------------------------\n",
    "\n",
    "safetensors_path_act = 'saved_tensor/TinyLlama_1_1B_Chat_v1_0_base/activation.safetensors'\n",
    "state_dict_base = load_file(safetensors_path_act)\n",
    "\n",
    "safetensors_path_act = 'saved_tensor/TinyLlama_1_1B_Chat_v1_0_qwt/activation.safetensors'\n",
    "state_dict_qwt = load_file(safetensors_path_act)"
   ]
  },
  {
   "cell_type": "code",
   "execution_count": 18,
   "id": "550bbf77",
   "metadata": {},
   "outputs": [],
   "source": [
    "import torch\n",
    "import torch.nn as nn\n",
    "\n",
    "# 实例化MSELoss对象\n",
    "loss = nn.MSELoss()"
   ]
  },
  {
   "cell_type": "code",
   "execution_count": null,
   "id": "da85e76a",
   "metadata": {},
   "outputs": [],
   "source": [
    "for k, v in state_dict_qwt.items():\n",
    "    print(k, v.shape)"
   ]
  },
  {
   "cell_type": "code",
   "execution_count": 23,
   "id": "4f4b5da7",
   "metadata": {},
   "outputs": [
    {
     "name": "stdout",
     "output_type": "stream",
     "text": [
      "0 True\n",
      "1 True\n",
      "2 True\n",
      "3 True\n",
      "4 True\n",
      "5 True\n",
      "6 True\n",
      "7 True\n",
      "8 True\n",
      "9 True\n",
      "10 True\n",
      "11 True\n",
      "12 True\n",
      "13 True\n",
      "14 True\n",
      "15 True\n",
      "16 True\n",
      "17 True\n",
      "18 True\n",
      "19 True\n",
      "20 True\n",
      "21 True\n"
     ]
    }
   ],
   "source": [
    "for idx in range(22): \n",
    "    print(idx, state_dict_base[f'base_layers.{idx}.input'].equal(state_dict_qwt[f'qwt_layers.{idx}.input_full']))\n",
    "    # print(idx, loss(state_dict_base[f'base_layers.{idx}.input'].float(), state_dict_qwt[f'qwt_layers.{idx}.input_full'].float()))\n",
    "    # print('='*10)\n",
    "    # print(state_dict_base[f'base_layers.{idx}.input'].view(-1)[:5])\n",
    "    # print(state_dict_qwt[f'qwt_layers.{idx}.input_full'].view(-1)[:5])\n"
   ]
  },
  {
   "cell_type": "code",
   "execution_count": null,
   "id": "9cf4b7b1",
   "metadata": {},
   "outputs": [],
   "source": [
    "def tensor_gpu_memory(tensor, name=None):\n",
    "    if tensor.is_cuda:\n",
    "        size_in_bytes = tensor.element_size() * tensor.numel()\n",
    "        size_in_MB = size_in_bytes / 1024**2\n",
    "        print(f\"{name if name else ''} size: {size_in_MB:.2f} MB\")\n",
    "    else:\n",
    "        print(f\"{name if name else ''} is not on GPU.\")"
   ]
  },
  {
   "cell_type": "code",
   "execution_count": null,
   "id": "dee23bc7",
   "metadata": {},
   "outputs": [],
   "source": [
    "import torch\n",
    "tensor = torch.empty((512, 2048, 4096), dtype=torch.float32).to('cuda')\n",
    "# print((4 * 512 * 2048 * 4096 * 32) / 1024 / 1024 / 1024 / 1024)"
   ]
  },
  {
   "cell_type": "code",
   "execution_count": null,
   "id": "8845d57d",
   "metadata": {},
   "outputs": [],
   "source": [
    "tensor_gpu_memory(tensor)"
   ]
  }
 ],
 "metadata": {
  "kernelspec": {
   "display_name": "qwt",
   "language": "python",
   "name": "python3"
  },
  "language_info": {
   "codemirror_mode": {
    "name": "ipython",
    "version": 3
   },
   "file_extension": ".py",
   "mimetype": "text/x-python",
   "name": "python",
   "nbconvert_exporter": "python",
   "pygments_lexer": "ipython3",
   "version": "3.10.16"
  }
 },
 "nbformat": 4,
 "nbformat_minor": 5
}

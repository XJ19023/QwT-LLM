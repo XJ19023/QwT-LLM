{
 "cells": [
  {
   "cell_type": "code",
   "execution_count": 32,
   "id": "aa1a47ae",
   "metadata": {},
   "outputs": [],
   "source": [
    "import os\n",
    "import random\n",
    "import sys\n",
    "import numpy as np\n",
    "from safetensors.torch import load_file\n",
    "import torch\n",
    "import math\n",
    "from safetensors.torch import save_file\n",
    "\n",
    "import time\n",
    "start_time = time.time()\n",
    "# ----------------------------------------------------------\n",
    "\n",
    "method = 'Qwen2_5_0_5B_base'\n",
    "safetensors_path_act = f'saved_tensor/{method}/activation.safetensors'\n",
    "state_dict_qwt_input = load_file(safetensors_path_act)"
   ]
  },
  {
   "cell_type": "code",
   "execution_count": 33,
   "id": "675ea85c",
   "metadata": {},
   "outputs": [
    {
     "name": "stdout",
     "output_type": "stream",
     "text": [
      "layers.0.input torch.Size([1, 2048, 896])\n",
      "layers.1.input torch.Size([1, 2048, 896])\n",
      "layers.10.input torch.Size([1, 2048, 896])\n",
      "layers.11.input torch.Size([1, 2048, 896])\n",
      "layers.12.input torch.Size([1, 2048, 896])\n",
      "layers.13.input torch.Size([1, 2048, 896])\n",
      "layers.14.input torch.Size([1, 2048, 896])\n",
      "layers.15.input torch.Size([1, 2048, 896])\n",
      "layers.16.input torch.Size([1, 2048, 896])\n",
      "layers.17.input torch.Size([1, 2048, 896])\n",
      "layers.18.input torch.Size([1, 2048, 896])\n",
      "layers.19.input torch.Size([1, 2048, 896])\n",
      "layers.2.input torch.Size([1, 2048, 896])\n",
      "layers.20.input torch.Size([1, 2048, 896])\n",
      "layers.21.input torch.Size([1, 2048, 896])\n",
      "layers.22.input torch.Size([1, 2048, 896])\n",
      "layers.23.input torch.Size([1, 2048, 896])\n",
      "layers.3.input torch.Size([1, 2048, 896])\n",
      "layers.4.input torch.Size([1, 2048, 896])\n",
      "layers.5.input torch.Size([1, 2048, 896])\n",
      "layers.6.input torch.Size([1, 2048, 896])\n",
      "layers.7.input torch.Size([1, 2048, 896])\n",
      "layers.8.input torch.Size([1, 2048, 896])\n",
      "layers.9.input torch.Size([1, 2048, 896])\n"
     ]
    }
   ],
   "source": [
    "for k, v in state_dict_qwt_input.items():\n",
    "    print(k, v.shape)"
   ]
  },
  {
   "cell_type": "code",
   "execution_count": null,
   "id": "550bbf77",
   "metadata": {},
   "outputs": [],
   "source": [
    "import torch\n",
    "import torch.nn as nn\n",
    "\n",
    "# 实例化MSELoss对象\n",
    "loss = nn.MSELoss()"
   ]
  },
  {
   "cell_type": "code",
   "execution_count": null,
   "id": "3836d2dc",
   "metadata": {},
   "outputs": [],
   "source": [
    "for a, b in zip(state_dict_base.values(), state_dict_qwt_input.values()):\n",
    "    print(a.equal(b)) #, a.view(-1)[:5], b.view(-1)[:5])"
   ]
  },
  {
   "cell_type": "code",
   "execution_count": null,
   "id": "da85e76a",
   "metadata": {},
   "outputs": [],
   "source": [
    "with open('log/123.log', 'w') as f:\n",
    "    for idx, (a, b, c, d, e) in enumerate(zip(state_dict_base.values(), state_dict_quant.values(), state_dict_base.values(), state_dict_clamp.values(), state_dict_clamp_qwt.values())):\n",
    "        f.writelines(f'{idx} base-quant: {loss(a.float(), b.float()).item():>8.4f}, base-clamp: {loss(c.float(), d.float()).item():>8.4f}, base-qwt: {loss(a.float(), e.float()).item():>8.4f}\\n') # 11, 16"
   ]
  },
  {
   "cell_type": "code",
   "execution_count": null,
   "id": "4f4b5da7",
   "metadata": {},
   "outputs": [],
   "source": [
    "for idx in range(22): \n",
    "    print(idx, state_dict_base[f'base_layers.{idx}.input'].equal(state_dict_qwt[f'qwt_layers.{idx}.input_full']))\n",
    "    # print(idx, loss(state_dict_base[f'base_layers.{idx}.input'].float(), state_dict_qwt[f'qwt_layers.{idx}.input_full'].float()))\n",
    "    # print('='*10)\n",
    "    # print(state_dict_base[f'base_layers.{idx}.input'].view(-1)[:5])\n",
    "    # print(state_dict_qwt[f'qwt_layers.{idx}.input_full'].view(-1)[:5])\n"
   ]
  },
  {
   "cell_type": "code",
   "execution_count": null,
   "id": "9cf4b7b1",
   "metadata": {},
   "outputs": [],
   "source": [
    "def tensor_gpu_memory(tensor, name=None):\n",
    "    if tensor.is_cuda:\n",
    "        size_in_bytes = tensor.element_size() * tensor.numel()\n",
    "        size_in_MB = size_in_bytes / 1024**2\n",
    "        print(f\"{name if name else ''} size: {size_in_MB:.2f} MB\")\n",
    "    else:\n",
    "        print(f\"{name if name else ''} is not on GPU.\")"
   ]
  },
  {
   "cell_type": "code",
   "execution_count": null,
   "id": "dee23bc7",
   "metadata": {},
   "outputs": [],
   "source": [
    "import torch\n",
    "tensor = torch.empty((512, 2048, 4096), dtype=torch.float32).to('cuda')\n",
    "# print((4 * 512 * 2048 * 4096 * 32) / 1024 / 1024 / 1024 / 1024)"
   ]
  },
  {
   "cell_type": "code",
   "execution_count": null,
   "id": "8845d57d",
   "metadata": {},
   "outputs": [],
   "source": [
    "tensor_gpu_memory(tensor)"
   ]
  }
 ],
 "metadata": {
  "kernelspec": {
   "display_name": "qwt",
   "language": "python",
   "name": "python3"
  },
  "language_info": {
   "codemirror_mode": {
    "name": "ipython",
    "version": 3
   },
   "file_extension": ".py",
   "mimetype": "text/x-python",
   "name": "python",
   "nbconvert_exporter": "python",
   "pygments_lexer": "ipython3",
   "version": "3.10.16"
  }
 },
 "nbformat": 4,
 "nbformat_minor": 5
}
